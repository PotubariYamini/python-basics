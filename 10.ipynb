{
 "cells": [
  {
   "cell_type": "markdown",
   "id": "3dcb940f",
   "metadata": {},
   "source": [
    "## Python Basic Programming Assignment 10"
   ]
  },
  {
   "cell_type": "markdown",
   "id": "6720790a",
   "metadata": {},
   "source": [
    "### 1. Write a Python program to find sum of elements in list?"
   ]
  },
  {
   "cell_type": "code",
   "execution_count": 1,
   "id": "c8ded94b-fe00-4251-a39a-6aeb115388cc",
   "metadata": {},
   "outputs": [
    {
     "name": "stdout",
     "output_type": "stream",
     "text": [
      "Sum of elements: 15\n"
     ]
    }
   ],
   "source": [
    "def sum_of_elements(lst):\n",
    "    total_sum = sum(lst)\n",
    "    return total_sum\n",
    "\n",
    "\n",
    "# Example usage\n",
    "numbers = [1, 2, 3, 4, 5]\n",
    "result = sum_of_elements(numbers)\n",
    "print(\"Sum of elements:\", result)\n"
   ]
  },
  {
   "cell_type": "markdown",
   "id": "fe1137c3",
   "metadata": {},
   "source": [
    "### 2. Write a Python program to  Multiply all numbers in the list?"
   ]
  },
  {
   "cell_type": "code",
   "execution_count": 2,
   "id": "c71123c5-6569-4ea5-9b2e-4fcfeb1a735f",
   "metadata": {},
   "outputs": [
    {
     "name": "stdout",
     "output_type": "stream",
     "text": [
      "Multiplication result: 120\n"
     ]
    }
   ],
   "source": [
    "def multiply_numbers(lst):\n",
    "    result = 1\n",
    "    for num in lst:\n",
    "        result *= num\n",
    "    return result\n",
    "\n",
    "\n",
    "# Example usage\n",
    "numbers = [2, 3, 4, 5]\n",
    "result = multiply_numbers(numbers)\n",
    "print(\"Multiplication result:\", result)\n"
   ]
  },
  {
   "cell_type": "markdown",
   "id": "078681db",
   "metadata": {},
   "source": [
    "### 3. Write a Python program to find smallest number in a list?"
   ]
  },
  {
   "cell_type": "code",
   "execution_count": 3,
   "id": "e569c08d-3ea1-44b0-8361-28dd5e79435a",
   "metadata": {},
   "outputs": [
    {
     "name": "stdout",
     "output_type": "stream",
     "text": [
      "Smallest number: 1\n"
     ]
    }
   ],
   "source": [
    "def find_smallest_number(lst):\n",
    "    if len(lst) == 0:\n",
    "        return None\n",
    "    \n",
    "    smallest = lst[0]\n",
    "    for num in lst:\n",
    "        if num < smallest:\n",
    "            smallest = num\n",
    "    \n",
    "    return smallest\n",
    "\n",
    "\n",
    "# Example usage\n",
    "numbers = [5, 2, 9, 1, 7]\n",
    "smallest_num = find_smallest_number(numbers)\n",
    "print(\"Smallest number:\", smallest_num)\n"
   ]
  },
  {
   "cell_type": "markdown",
   "id": "12b04397",
   "metadata": {},
   "source": [
    "### 4. Write a Python program to find largest number in a list?"
   ]
  },
  {
   "cell_type": "code",
   "execution_count": 4,
   "id": "f60a2376-5a9c-4d86-be0a-6714217c9c2f",
   "metadata": {},
   "outputs": [
    {
     "name": "stdout",
     "output_type": "stream",
     "text": [
      "Largest number: 9\n"
     ]
    }
   ],
   "source": [
    "def find_largest_number(lst):\n",
    "    if len(lst) == 0:\n",
    "        return None\n",
    "    \n",
    "    largest = lst[0]\n",
    "    for num in lst:\n",
    "        if num > largest:\n",
    "            largest = num\n",
    "    \n",
    "    return largest\n",
    "\n",
    "\n",
    "# Example usage\n",
    "numbers = [5, 2, 9, 1, 7]\n",
    "largest_num = find_largest_number(numbers)\n",
    "print(\"Largest number:\", largest_num)\n"
   ]
  },
  {
   "cell_type": "markdown",
   "id": "86442b51",
   "metadata": {},
   "source": [
    "### 5. Write a Python program to find second largest number in a list?"
   ]
  },
  {
   "cell_type": "code",
   "execution_count": 5,
   "id": "4e2b9f41-5b08-4e53-8364-e8958e387ad4",
   "metadata": {},
   "outputs": [
    {
     "name": "stdout",
     "output_type": "stream",
     "text": [
      "Second largest number: 7\n"
     ]
    }
   ],
   "source": [
    "def find_second_largest_number(lst):\n",
    "    if len(lst) < 2:\n",
    "        return None\n",
    "    \n",
    "    largest = max(lst[0], lst[1])\n",
    "    second_largest = min(lst[0], lst[1])\n",
    "    \n",
    "    for i in range(2, len(lst)):\n",
    "        if lst[i] > largest:\n",
    "            second_largest = largest\n",
    "            largest = lst[i]\n",
    "        elif lst[i] > second_largest:\n",
    "            second_largest = lst[i]\n",
    "    \n",
    "    return second_largest\n",
    "\n",
    "\n",
    "# Example usage\n",
    "numbers = [5, 2, 9, 1, 7]\n",
    "second_largest_num = find_second_largest_number(numbers)\n",
    "print(\"Second largest number:\", second_largest_num)\n"
   ]
  },
  {
   "cell_type": "markdown",
   "id": "10964d7d",
   "metadata": {},
   "source": [
    "### 6. Write a Python program to find N largest elements from a list?"
   ]
  },
  {
   "cell_type": "code",
   "execution_count": 6,
   "id": "2967b784-cb28-400e-ab3c-21ded6456d6d",
   "metadata": {},
   "outputs": [
    {
     "name": "stdout",
     "output_type": "stream",
     "text": [
      "3 largest numbers: [9, 7, 6]\n"
     ]
    }
   ],
   "source": [
    "def find_n_largest_numbers(lst, n):\n",
    "    if len(lst) < n:\n",
    "        return None\n",
    "    \n",
    "    largest_numbers = sorted(lst, reverse=True)[:n]\n",
    "    return largest_numbers\n",
    "\n",
    "\n",
    "# Example usage\n",
    "numbers = [5, 2, 9, 1, 7, 4, 6]\n",
    "n = 3\n",
    "n_largest_nums = find_n_largest_numbers(numbers, n)\n",
    "print(f\"{n} largest numbers:\", n_largest_nums)\n"
   ]
  },
  {
   "cell_type": "markdown",
   "id": "2f1a1e98",
   "metadata": {},
   "source": [
    "### 7. Write a Python program to print even numbers in a list?"
   ]
  },
  {
   "cell_type": "code",
   "execution_count": 7,
   "id": "70c95812-f140-4b5b-b293-c4166505c474",
   "metadata": {},
   "outputs": [
    {
     "name": "stdout",
     "output_type": "stream",
     "text": [
      "Even numbers:\n",
      "2\n",
      "4\n",
      "6\n"
     ]
    }
   ],
   "source": [
    "def print_even_numbers(lst):\n",
    "    even_numbers = [num for num in lst if num % 2 == 0]\n",
    "    for num in even_numbers:\n",
    "        print(num)\n",
    "\n",
    "\n",
    "# Example usage\n",
    "numbers = [5, 2, 9, 1, 7, 4, 6]\n",
    "print(\"Even numbers:\")\n",
    "print_even_numbers(numbers)\n"
   ]
  },
  {
   "cell_type": "markdown",
   "id": "989bb324",
   "metadata": {},
   "source": [
    "### 8. Write a Python program to print odd numbers in a List?"
   ]
  },
  {
   "cell_type": "code",
   "execution_count": 8,
   "id": "38b300bd-9875-406b-b41d-ff3168c9751e",
   "metadata": {},
   "outputs": [
    {
     "name": "stdout",
     "output_type": "stream",
     "text": [
      "Odd numbers:\n",
      "5\n",
      "9\n",
      "1\n",
      "7\n"
     ]
    }
   ],
   "source": [
    "def print_odd_numbers(lst):\n",
    "    odd_numbers = [num for num in lst if num % 2 != 0]\n",
    "    for num in odd_numbers:\n",
    "        print(num)\n",
    "\n",
    "\n",
    "# Example usage\n",
    "numbers = [5, 2, 9, 1, 7, 4, 6]\n",
    "print(\"Odd numbers:\")\n",
    "print_odd_numbers(numbers)\n"
   ]
  },
  {
   "cell_type": "markdown",
   "id": "185b7b13",
   "metadata": {},
   "source": [
    "### 9. Write a Python program to Remove empty List from List?"
   ]
  },
  {
   "cell_type": "code",
   "execution_count": 9,
   "id": "49ce172a-7c14-4a2f-85e9-5319b4491f7b",
   "metadata": {},
   "outputs": [
    {
     "name": "stdout",
     "output_type": "stream",
     "text": [
      "Filtered data: [1, 2, [3, 4], 5, [6, 7, 8]]\n"
     ]
    }
   ],
   "source": [
    "def remove_empty_lists(lst):\n",
    "    result = [sublist for sublist in lst if sublist]\n",
    "    return result\n",
    "\n",
    "\n",
    "# Example usage\n",
    "data = [1, 2, [], [3, 4], [], 5, [], [6, 7, 8], []]\n",
    "filtered_data = remove_empty_lists(data)\n",
    "print(\"Filtered data:\", filtered_data)\n"
   ]
  },
  {
   "cell_type": "markdown",
   "id": "278cfacc",
   "metadata": {},
   "source": [
    "### 10. Write a Python program to Cloning or Copying a list?"
   ]
  },
  {
   "cell_type": "code",
   "execution_count": 10,
   "id": "85b428b3-7222-4ad1-8bb2-89b7e3cb4395",
   "metadata": {},
   "outputs": [
    {
     "name": "stdout",
     "output_type": "stream",
     "text": [
      "Original list: [1, 2, 3, 4, 5]\n",
      "Cloned list: [1, 2, 3, 4, 5]\n"
     ]
    }
   ],
   "source": [
    "def clone_list(lst):\n",
    "    cloned_list = list(lst)  # or lst.copy() or lst[:]\n",
    "    return cloned_list\n",
    "\n",
    "\n",
    "# Example usage\n",
    "original_list = [1, 2, 3, 4, 5]\n",
    "cloned_list = clone_list(original_list)\n",
    "print(\"Original list:\", original_list)\n",
    "print(\"Cloned list:\", cloned_list)\n"
   ]
  },
  {
   "cell_type": "markdown",
   "id": "b359bedf",
   "metadata": {},
   "source": [
    "### 11. Write a Python program to Count occurrences of an element in a list?"
   ]
  },
  {
   "cell_type": "code",
   "execution_count": null,
   "id": "7eb92f34-ce75-475c-9f7e-b22887415b72",
   "metadata": {},
   "outputs": [],
   "source": []
  }
 ],
 "metadata": {
  "kernelspec": {
   "display_name": "Python 3 (ipykernel)",
   "language": "python",
   "name": "python3"
  },
  "language_info": {
   "codemirror_mode": {
    "name": "ipython",
    "version": 3
   },
   "file_extension": ".py",
   "mimetype": "text/x-python",
   "name": "python",
   "nbconvert_exporter": "python",
   "pygments_lexer": "ipython3",
   "version": "3.10.6"
  }
 },
 "nbformat": 4,
 "nbformat_minor": 5
}
