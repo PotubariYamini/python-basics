{
 "cells": [
  {
   "cell_type": "markdown",
   "id": "9bf47949",
   "metadata": {},
   "source": [
    "## Python Basic Programming Assignment - 14\n",
    "---------------------"
   ]
  },
  {
   "cell_type": "markdown",
   "id": "a8074819",
   "metadata": {},
   "source": [
    "### 1. Define a class with a generator which can iterate the numbers, which are divisible by 7, between a given range 0 and n."
   ]
  },
  {
   "cell_type": "code",
   "execution_count": 1,
   "id": "bd814c28-7967-459f-8fcf-83a77e1f0039",
   "metadata": {},
   "outputs": [
    {
     "name": "stdout",
     "output_type": "stream",
     "text": [
      "0\n",
      "7\n",
      "14\n",
      "21\n",
      "28\n",
      "35\n",
      "42\n",
      "49\n"
     ]
    }
   ],
   "source": [
    "class DivisibleBySevenGenerator:\n",
    "    def __init__(self, n):\n",
    "        self.n = n\n",
    "\n",
    "    def divisible_by_seven(self):\n",
    "        for num in range(self.n + 1):\n",
    "            if num % 7 == 0:\n",
    "                yield num\n",
    "\n",
    "# Create an instance of the DivisibleBySevenGenerator class\n",
    "generator = DivisibleBySevenGenerator(50)\n",
    "\n",
    "# Iterate over the numbers divisible by 7 using the generator\n",
    "for num in generator.divisible_by_seven():\n",
    "    print(num)\n"
   ]
  },
  {
   "cell_type": "markdown",
   "id": "8127371b",
   "metadata": {},
   "source": [
    "\n",
    "### 2. Write a program to compute the frequency of the words from the input. The output should output after sorting the key alphanumerically."
   ]
  },
  {
   "cell_type": "code",
   "execution_count": 2,
   "id": "565bd9a0-6735-4f8c-8ef6-49f9b731d32f",
   "metadata": {},
   "outputs": [
    {
     "name": "stdin",
     "output_type": "stream",
     "text": [
      "Enter some text:  she is looking gorgeous\n"
     ]
    },
    {
     "name": "stdout",
     "output_type": "stream",
     "text": [
      "Word Frequency:\n",
      "gorgeous: 1\n",
      "is: 1\n",
      "looking: 1\n",
      "she: 1\n"
     ]
    }
   ],
   "source": [
    "def compute_word_frequency(input_text):\n",
    "    word_list = input_text.split()\n",
    "    word_frequency = {}\n",
    "    \n",
    "    for word in word_list:\n",
    "        if word in word_frequency:\n",
    "            word_frequency[word] += 1\n",
    "        else:\n",
    "            word_frequency[word] = 1\n",
    "    \n",
    "    return word_frequency\n",
    "\n",
    "input_text = input(\"Enter some text: \")\n",
    "frequency = compute_word_frequency(input_text)\n",
    "\n",
    "sorted_keys = sorted(frequency.keys())\n",
    "\n",
    "print(\"Word Frequency:\")\n",
    "for key in sorted_keys:\n",
    "    print(key + \": \" + str(frequency[key]))\n"
   ]
  },
  {
   "cell_type": "markdown",
   "id": "4e869c3c",
   "metadata": {},
   "source": [
    "\n",
    "### 3. Define a class Person and its two child classes: Male and Female. All classes have a method \"getGender\" which can print \"Male\" for Male class and \"Female\" for Female class."
   ]
  },
  {
   "cell_type": "code",
   "execution_count": 3,
   "id": "ef3f9df6-0d70-41e3-9e22-d9ed44b18ac9",
   "metadata": {},
   "outputs": [
    {
     "name": "stdout",
     "output_type": "stream",
     "text": [
      "Male\n",
      "Female\n"
     ]
    }
   ],
   "source": [
    "class Person:\n",
    "    def getGender(self):\n",
    "        pass\n",
    "\n",
    "class Male(Person):\n",
    "    def getGender(self):\n",
    "        print(\"Male\")\n",
    "\n",
    "class Female(Person):\n",
    "    def getGender(self):\n",
    "        print(\"Female\")\n",
    "\n",
    "# Example usage\n",
    "person = Person()\n",
    "person.getGender()\n",
    "\n",
    "male = Male()\n",
    "male.getGender()\n",
    "\n",
    "female = Female()\n",
    "female.getGender()\n"
   ]
  },
  {
   "cell_type": "markdown",
   "id": "58b5940f",
   "metadata": {},
   "source": [
    "\n",
    "### 4. Please write a program to generate all sentences where subject is in [\"I\", \"You\"] and verb is in ['Play', \"Love\"] and the object is in [\"Hockey\",\"Football\"]."
   ]
  },
  {
   "cell_type": "code",
   "execution_count": 4,
   "id": "43d588a2-681f-4bad-9855-18ce34e6092e",
   "metadata": {},
   "outputs": [
    {
     "name": "stdout",
     "output_type": "stream",
     "text": [
      "I Play Hockey.\n",
      "I Play Football.\n",
      "I Love Hockey.\n",
      "I Love Football.\n",
      "You Play Hockey.\n",
      "You Play Football.\n",
      "You Love Hockey.\n",
      "You Love Football.\n"
     ]
    }
   ],
   "source": [
    "subjects = [\"I\", \"You\"]\n",
    "verbs = [\"Play\", \"Love\"]\n",
    "objects = [\"Hockey\", \"Football\"]\n",
    "\n",
    "sentences = []\n",
    "\n",
    "for subject in subjects:\n",
    "    for verb in verbs:\n",
    "        for obj in objects:\n",
    "            sentence = f\"{subject} {verb} {obj}.\"\n",
    "            sentences.append(sentence)\n",
    "\n",
    "# Print all generated sentences\n",
    "for sentence in sentences:\n",
    "    print(sentence)\n"
   ]
  },
  {
   "cell_type": "markdown",
   "id": "0ddf4f59",
   "metadata": {},
   "source": [
    "\n",
    "### 5. Please write a program to compress and decompress the string \"hello world!hello world!hello world!hello world!\""
   ]
  },
  {
   "cell_type": "code",
   "execution_count": 5,
   "id": "5d864ee1-7875-4ff6-853d-8c4101a2b7a7",
   "metadata": {},
   "outputs": [
    {
     "name": "stdout",
     "output_type": "stream",
     "text": [
      "Original string: hello world!hello world!hello world!hello world!\n",
      "Compressed data: b'x\\x9c\\xcbH\\xcd\\xc9\\xc9W(\\xcf/\\xcaIQ\\xcc \\x82\\r\\x00\\xbd[\\x11\\xf5'\n",
      "Decompressed string: hello world!hello world!hello world!hello world!\n"
     ]
    }
   ],
   "source": [
    "import zlib\n",
    "\n",
    "original_string = \"hello world!hello world!hello world!hello world!\"\n",
    "\n",
    "# Compress the string\n",
    "compressed_data = zlib.compress(original_string.encode())\n",
    "\n",
    "# Decompress the string\n",
    "decompressed_data = zlib.decompress(compressed_data)\n",
    "\n",
    "# Decode the decompressed data back to a string\n",
    "decompressed_string = decompressed_data.decode()\n",
    "\n",
    "# Print the original, compressed, and decompressed strings\n",
    "print(\"Original string:\", original_string)\n",
    "print(\"Compressed data:\", compressed_data)\n",
    "print(\"Decompressed string:\", decompressed_string)\n"
   ]
  },
  {
   "cell_type": "markdown",
   "id": "2aeb595b",
   "metadata": {},
   "source": [
    "\n",
    "### 6. Please write a binary search function which searches an item in a sorted list. The function should return the index of element to be searched in the list."
   ]
  },
  {
   "cell_type": "code",
   "execution_count": 6,
   "id": "f8ea359a-75c4-40a6-8350-66273f4ba5d4",
   "metadata": {},
   "outputs": [
    {
     "name": "stdout",
     "output_type": "stream",
     "text": [
      "Item 23 found at index 5\n"
     ]
    }
   ],
   "source": [
    "def binary_search(arr, target):\n",
    "    left = 0\n",
    "    right = len(arr) - 1\n",
    "\n",
    "    while left <= right:\n",
    "        mid = (left + right) // 2\n",
    "\n",
    "        if arr[mid] == target:\n",
    "            return mid\n",
    "        elif arr[mid] < target:\n",
    "            left = mid + 1\n",
    "        else:\n",
    "            right = mid - 1\n",
    "\n",
    "    return -1\n",
    "\n",
    "# Example usage\n",
    "sorted_list = [2, 5, 8, 12, 16, 23, 38, 56, 72, 91]\n",
    "item = 23\n",
    "\n",
    "index = binary_search(sorted_list, item)\n",
    "\n",
    "if index != -1:\n",
    "    print(f\"Item {item} found at index {index}\")\n",
    "else:\n",
    "    print(f\"Item {item} not found in the list\")\n"
   ]
  },
  {
   "cell_type": "code",
   "execution_count": null,
   "id": "06eeda13-5038-40b5-b0cf-5248cdaf8774",
   "metadata": {},
   "outputs": [],
   "source": []
  }
 ],
 "metadata": {
  "kernelspec": {
   "display_name": "Python 3 (ipykernel)",
   "language": "python",
   "name": "python3"
  },
  "language_info": {
   "codemirror_mode": {
    "name": "ipython",
    "version": 3
   },
   "file_extension": ".py",
   "mimetype": "text/x-python",
   "name": "python",
   "nbconvert_exporter": "python",
   "pygments_lexer": "ipython3",
   "version": "3.10.6"
  }
 },
 "nbformat": 4,
 "nbformat_minor": 5
}
