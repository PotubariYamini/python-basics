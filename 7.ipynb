{
 "cells": [
  {
   "cell_type": "markdown",
   "id": "35297a20",
   "metadata": {},
   "source": [
    "## Programming Basic Assignment 7"
   ]
  },
  {
   "cell_type": "markdown",
   "id": "27349114",
   "metadata": {},
   "source": [
    "### 1. Write a Python Program to find sum of array?"
   ]
  },
  {
   "cell_type": "code",
   "execution_count": 1,
   "id": "c24a2c61-f7c0-4fd8-b359-149793a29dfe",
   "metadata": {},
   "outputs": [
    {
     "name": "stdout",
     "output_type": "stream",
     "text": [
      "Sum of the array: 15\n"
     ]
    }
   ],
   "source": [
    "def calculate_sum(arr):\n",
    "    array_sum = 0\n",
    "    for num in arr:\n",
    "        array_sum += num\n",
    "    return array_sum\n",
    "\n",
    "# Example usage\n",
    "my_array = [1, 2, 3, 4, 5]\n",
    "result = calculate_sum(my_array)\n",
    "print(\"Sum of the array:\", result)\n"
   ]
  },
  {
   "cell_type": "markdown",
   "id": "171a980d",
   "metadata": {},
   "source": [
    "### 2. Write a Python Program to find largest element in an array?\n"
   ]
  },
  {
   "cell_type": "code",
   "execution_count": 2,
   "id": "ccc26d61-266a-43a9-9b26-80149e3d7bdb",
   "metadata": {},
   "outputs": [
    {
     "name": "stdout",
     "output_type": "stream",
     "text": [
      "Largest number in the array: 67\n"
     ]
    }
   ],
   "source": [
    "def find_largest_number(arr):\n",
    "    if not arr:  # Check if the array is empty\n",
    "        return None\n",
    "\n",
    "    largest = arr[0]  # Assume the first element is the largest\n",
    "\n",
    "    for num in arr:\n",
    "        if num > largest:\n",
    "            largest = num\n",
    "\n",
    "    return largest\n",
    "\n",
    "# Example usage\n",
    "my_array = [12, 45, 67, 23, 9, 55]\n",
    "result = find_largest_number(my_array)\n",
    "print(\"Largest number in the array:\", result)\n"
   ]
  },
  {
   "cell_type": "markdown",
   "id": "21613246",
   "metadata": {},
   "source": [
    "### 3. Write a Python Program for array rotation?"
   ]
  },
  {
   "cell_type": "code",
   "execution_count": 3,
   "id": "ca0a9d15-3ece-4de1-8257-681855449716",
   "metadata": {},
   "outputs": [
    {
     "name": "stdout",
     "output_type": "stream",
     "text": [
      "Rotated array: [4, 5, 1, 2, 3]\n"
     ]
    }
   ],
   "source": [
    "def rotate_array(arr, k):\n",
    "    length = len(arr)\n",
    "    if length == 0:\n",
    "        return arr\n",
    "\n",
    "    # Adjust rotation amount to handle large values of k\n",
    "    k = k % length\n",
    "\n",
    "    rotated_arr = arr[length-k:] + arr[:length-k]\n",
    "    return rotated_arr\n",
    "\n",
    "# Example usage\n",
    "my_array = [1, 2, 3, 4, 5]\n",
    "rotation_amount = 2\n",
    "result = rotate_array(my_array, rotation_amount)\n",
    "print(\"Rotated array:\", result)\n"
   ]
  },
  {
   "cell_type": "markdown",
   "id": "3e52d939",
   "metadata": {},
   "source": [
    "### 4. Write a Python Program to Split the array and add the first part to the end?"
   ]
  },
  {
   "cell_type": "code",
   "execution_count": 4,
   "id": "20d3683b-7360-4870-b28a-26f0067621ef",
   "metadata": {},
   "outputs": [
    {
     "name": "stdout",
     "output_type": "stream",
     "text": [
      "Array after splitting and adding: [4, 5, 1, 2, 3]\n"
     ]
    }
   ],
   "source": [
    "def split_and_add(arr, split_index):\n",
    "    if split_index < 0 or split_index >= len(arr):\n",
    "        return arr\n",
    "\n",
    "    split_array = arr[:split_index+1]\n",
    "    remaining_array = arr[split_index+1:]\n",
    "    result = remaining_array + split_array\n",
    "    return result\n",
    "\n",
    "# Example usage\n",
    "my_array = [1, 2, 3, 4, 5]\n",
    "split_index = 2\n",
    "result = split_and_add(my_array, split_index)\n",
    "print(\"Array after splitting and adding:\", result)\n"
   ]
  },
  {
   "cell_type": "markdown",
   "id": "aa375779",
   "metadata": {},
   "source": [
    "### 5. Write a Python Program to check if given array is Monotonic?"
   ]
  },
  {
   "cell_type": "code",
   "execution_count": 5,
   "id": "7119585e-f3ec-4d70-8cde-cd77bbb92c84",
   "metadata": {},
   "outputs": [
    {
     "name": "stdout",
     "output_type": "stream",
     "text": [
      "The array is monotonic.\n"
     ]
    }
   ],
   "source": [
    "def is_monotonic(arr):\n",
    "    increasing = decreasing = True\n",
    "\n",
    "    for i in range(1, len(arr)):\n",
    "        if arr[i] < arr[i-1]:\n",
    "            increasing = False\n",
    "        if arr[i] > arr[i-1]:\n",
    "            decreasing = False\n",
    "\n",
    "    return increasing or decreasing\n",
    "\n",
    "# Example usage\n",
    "my_array = [1, 2, 3, 4, 5]\n",
    "result = is_monotonic(my_array)\n",
    "if result:\n",
    "    print(\"The array is monotonic.\")\n",
    "else:\n",
    "    print(\"The array is not monotonic.\")\n"
   ]
  },
  {
   "cell_type": "code",
   "execution_count": null,
   "id": "78d5273a-b12e-48e1-bf13-128237195a95",
   "metadata": {},
   "outputs": [],
   "source": []
  }
 ],
 "metadata": {
  "kernelspec": {
   "display_name": "Python 3 (ipykernel)",
   "language": "python",
   "name": "python3"
  },
  "language_info": {
   "codemirror_mode": {
    "name": "ipython",
    "version": 3
   },
   "file_extension": ".py",
   "mimetype": "text/x-python",
   "name": "python",
   "nbconvert_exporter": "python",
   "pygments_lexer": "ipython3",
   "version": "3.10.6"
  }
 },
 "nbformat": 4,
 "nbformat_minor": 5
}
