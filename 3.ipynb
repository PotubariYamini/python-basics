{
 "cells": [
  {
   "cell_type": "markdown",
   "id": "cc97b20e-348b-4897-ae3a-d5f26e3b2851",
   "metadata": {
    "id": "fdeb4706"
   },
   "source": [
    "### 1. Write a Python Program to Check if a Number is Positive, Negative or Zero?"
   ]
  },
  {
   "cell_type": "code",
   "execution_count": 1,
   "id": "2184368a-7091-45b1-b00d-b2f45e29181a",
   "metadata": {},
   "outputs": [
    {
     "name": "stdin",
     "output_type": "stream",
     "text": [
      "Enter a number:  30\n"
     ]
    },
    {
     "name": "stdout",
     "output_type": "stream",
     "text": [
      "The number 30.0 is Positive.\n"
     ]
    }
   ],
   "source": [
    "def check_positive_negative(number):\n",
    "    if number > 0:\n",
    "        return \"Positive\"\n",
    "    elif number < 0:\n",
    "        return \"Negative\"\n",
    "    else:\n",
    "        return \"Zero\"\n",
    "\n",
    "# Prompt the user to enter the number\n",
    "number = float(input(\"Enter a number: \"))\n",
    "\n",
    "# Check whether the number is positive or negative\n",
    "result = check_positive_negative(number)\n",
    "\n",
    "# Display the result\n",
    "print(f\"The number {number} is {result}.\")\n"
   ]
  },
  {
   "cell_type": "markdown",
   "id": "a355c24d-39bf-45b2-bfa7-1a975ca2b49e",
   "metadata": {
    "id": "086bfded"
   },
   "source": [
    "### 2. Write a Python Program to Check if a Number is Odd or Even?\n"
   ]
  },
  {
   "cell_type": "code",
   "execution_count": 2,
   "id": "6469ce6e-273a-4fda-917d-5769bd5fd0d1",
   "metadata": {},
   "outputs": [
    {
     "name": "stdin",
     "output_type": "stream",
     "text": [
      "Enter a number:  23\n"
     ]
    },
    {
     "name": "stdout",
     "output_type": "stream",
     "text": [
      "The number 23 is Odd.\n"
     ]
    }
   ],
   "source": [
    "def check_even_odd(number):\n",
    "    if number % 2 == 0:\n",
    "        return \"Even\"\n",
    "    else:\n",
    "        return \"Odd\"\n",
    "\n",
    "# Prompt the user to enter the number\n",
    "number = int(input(\"Enter a number: \"))\n",
    "\n",
    "# Check whether the number is even or odd\n",
    "result = check_even_odd(number)\n",
    "\n",
    "# Display the result\n",
    "print(f\"The number {number} is {result}.\")\n"
   ]
  },
  {
   "cell_type": "markdown",
   "id": "a7ba5a6e-8f09-4fd6-99ce-f4665b6e0ca4",
   "metadata": {
    "id": "575e4f94"
   },
   "source": [
    "\\### 3. Write a Python Program to Check Leap Year?\n"
   ]
  },
  {
   "cell_type": "code",
   "execution_count": 3,
   "id": "57e938fd-0976-4253-837e-45e4d988f142",
   "metadata": {},
   "outputs": [
    {
     "name": "stdin",
     "output_type": "stream",
     "text": [
      "Enter a year:  2002\n"
     ]
    },
    {
     "name": "stdout",
     "output_type": "stream",
     "text": [
      "The year 2002 is not a leap year.\n"
     ]
    }
   ],
   "source": [
    "def check_leap_year(year):\n",
    "    if year % 4 == 0:\n",
    "        if year % 100 == 0:\n",
    "            if year % 400 == 0:\n",
    "                return True  # Divisible by 400, leap year\n",
    "            else:\n",
    "                return False  # Divisible by 100 but not by 400, not a leap year\n",
    "        else:\n",
    "            return True  # Divisible by 4 but not by 100, leap year\n",
    "    else:\n",
    "        return False  # Not divisible by 4, not a leap year\n",
    "\n",
    "# Prompt the user to enter the year\n",
    "year = int(input(\"Enter a year: \"))\n",
    "\n",
    "# Check whether the year is a leap year\n",
    "is_leap_year = check_leap_year(year)\n",
    "\n",
    "# Display the result\n",
    "if is_leap_year:\n",
    "    print(f\"The year {year} is a leap year.\")\n",
    "else:\n",
    "    print(f\"The year {year} is not a leap year.\")\n"
   ]
  },
  {
   "cell_type": "markdown",
   "id": "3419dd7c-1d93-4ce3-9a93-6d3e0365a15c",
   "metadata": {
    "id": "aa83ce63"
   },
   "source": [
    "### 4. Write a Python Program to Check Prime Number?"
   ]
  },
  {
   "cell_type": "code",
   "execution_count": 4,
   "id": "8e6813ad-39ac-4054-b071-f3ab41de9d10",
   "metadata": {},
   "outputs": [
    {
     "name": "stdin",
     "output_type": "stream",
     "text": [
      "Enter a number:  21\n"
     ]
    },
    {
     "name": "stdout",
     "output_type": "stream",
     "text": [
      "The number 21 is not a prime number.\n"
     ]
    }
   ],
   "source": [
    "def check_prime(number):\n",
    "    if number <= 1:\n",
    "        return False\n",
    "    for i in range(2, int(number ** 0.5) + 1):\n",
    "        if number % i == 0:\n",
    "            return False\n",
    "    return True\n",
    "\n",
    "# Prompt the user to enter the number\n",
    "number = int(input(\"Enter a number: \"))\n",
    "\n",
    "# Check whether the number is prime\n",
    "is_prime = check_prime(number)\n",
    "\n",
    "# Display the result\n",
    "if is_prime:\n",
    "    print(f\"The number {number} is a prime number.\")\n",
    "else:\n",
    "    print(f\"The number {number} is not a prime number.\")\n"
   ]
  },
  {
   "cell_type": "markdown",
   "id": "7df6c822-430c-4de0-ad37-e01f721417e8",
   "metadata": {
    "id": "b44b54ff"
   },
   "source": [
    "### 5. Write a Python Program to Print all Prime Numbers in an Interval of 1-10000?"
   ]
  },
  {
   "cell_type": "code",
   "execution_count": null,
   "id": "85115c3b-9c29-4c66-81f0-e4074f990b59",
   "metadata": {},
   "outputs": [],
   "source": []
  }
 ],
 "metadata": {
  "kernelspec": {
   "display_name": "Python 3 (ipykernel)",
   "language": "python",
   "name": "python3"
  },
  "language_info": {
   "codemirror_mode": {
    "name": "ipython",
    "version": 3
   },
   "file_extension": ".py",
   "mimetype": "text/x-python",
   "name": "python",
   "nbconvert_exporter": "python",
   "pygments_lexer": "ipython3",
   "version": "3.10.6"
  }
 },
 "nbformat": 4,
 "nbformat_minor": 5
}
