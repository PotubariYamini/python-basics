{
 "cells": [
  {
   "cell_type": "markdown",
   "id": "40863595-e877-4913-9bd0-70e87f6e6b3f",
   "metadata": {
    "tags": []
   },
   "source": [
    "### 1. Write a Python program to print \"Hello Python\"?"
   ]
  },
  {
   "cell_type": "code",
   "execution_count": 2,
   "id": "3133b4ff-ee71-4ee7-b414-5b6102823b87",
   "metadata": {},
   "outputs": [
    {
     "name": "stdout",
     "output_type": "stream",
     "text": [
      "Hello Python\n"
     ]
    }
   ],
   "source": [
    "D = \"Hello Python\"\n",
    "print(D)"
   ]
  },
  {
   "cell_type": "markdown",
   "id": "cf1200bf-9eb9-4a0d-96cc-7a1141e4b1d8",
   "metadata": {},
   "source": [
    "### 2. Write a Python program to do arithmetical operations addition and division.?\n"
   ]
  },
  {
   "cell_type": "code",
   "execution_count": 3,
   "id": "af60e2da-7678-48fc-a87d-4a1c7dda20a6",
   "metadata": {},
   "outputs": [
    {
     "name": "stdout",
     "output_type": "stream",
     "text": [
      "Sum: 15\n",
      "Difference: 5\n",
      "Product: 50\n",
      "Quotient: 2.0\n",
      "Remainder: 0\n",
      "Exponent: 100000\n",
      "Floor Division: 2\n"
     ]
    }
   ],
   "source": [
    "# Program to perform arithmetic operations\n",
    "\n",
    "# Addition\n",
    "a = 10\n",
    "b = 5\n",
    "sum = a + b\n",
    "print(\"Sum:\", sum)\n",
    "\n",
    "# Subtraction\n",
    "sub = a - b\n",
    "print(\"Difference:\", sub)\n",
    "\n",
    "# Multiplication\n",
    "mul = a * b\n",
    "print(\"Product:\", mul)\n",
    "\n",
    "# Division\n",
    "div = a / b\n",
    "print(\"Quotient:\", div)\n",
    "\n",
    "# Modulus (Remainder)\n",
    "mod = a % b\n",
    "print(\"Remainder:\", mod)\n",
    "\n",
    "# Exponentiation\n",
    "exp = a ** b\n",
    "print(\"Exponent:\", exp)\n",
    "\n",
    "# Floor Division\n",
    "floor_div = a // b\n",
    "print(\"Floor Division:\", floor_div)\n"
   ]
  },
  {
   "cell_type": "markdown",
   "id": "cc84a188-d410-4e77-b5a1-dc798bbb67f2",
   "metadata": {},
   "source": [
    "### 3. Write a Python program to find the area of a triangle?\n"
   ]
  },
  {
   "cell_type": "code",
   "execution_count": 4,
   "id": "a6239f09-5788-42f0-8200-5be2872e451d",
   "metadata": {},
   "outputs": [
    {
     "name": "stdin",
     "output_type": "stream",
     "text": [
      "Enter the length of the base of the triangle:  4.5\n",
      "Enter the height of the triangle:  7.8\n"
     ]
    },
    {
     "name": "stdout",
     "output_type": "stream",
     "text": [
      "The area of the triangle is: 17.55\n"
     ]
    }
   ],
   "source": [
    "# Program to calculate the area of a triangle\n",
    "\n",
    "base = float(input(\"Enter the length of the base of the triangle: \"))\n",
    "height = float(input(\"Enter the height of the triangle: \"))\n",
    "\n",
    "# Calculate the area\n",
    "area = 0.5 * base * height\n",
    "\n",
    "\n",
    "print(\"The area of the triangle is:\", area)\n"
   ]
  },
  {
   "cell_type": "markdown",
   "id": "0bd071a1-d725-44ec-843e-0c59c5dfb45c",
   "metadata": {},
   "source": [
    "### 4. Write a Python program to swap two variables?\n"
   ]
  },
  {
   "cell_type": "code",
   "execution_count": 5,
   "id": "50430b9a-3395-4dca-8c04-df649a46f72d",
   "metadata": {},
   "outputs": [
    {
     "name": "stdin",
     "output_type": "stream",
     "text": [
      "Enter the value of variable a:  35\n",
      "Enter the value of variable b:  56\n"
     ]
    },
    {
     "name": "stdout",
     "output_type": "stream",
     "text": [
      "Before swapping:\n",
      "a = 35\n",
      "b = 56\n",
      "After swapping:\n",
      "a = 56\n",
      "b = 35\n"
     ]
    }
   ],
   "source": [
    "# Program to swap two variables\n",
    "\n",
    "# Input values\n",
    "a = input(\"Enter the value of variable a: \")\n",
    "b = input(\"Enter the value of variable b: \")\n",
    "\n",
    "# Display the values before swapping\n",
    "print(\"Before swapping:\")\n",
    "print(\"a =\", a)\n",
    "print(\"b =\", b)\n",
    "\n",
    "# Swap the values\n",
    "temp = a\n",
    "a = b\n",
    "b = temp\n",
    "\n",
    "# Display the values after swapping\n",
    "print(\"After swapping:\")\n",
    "print(\"a =\", a)\n",
    "print(\"b =\", b)\n"
   ]
  },
  {
   "cell_type": "markdown",
   "id": "a1c44ae8-d8b4-4b60-88fb-71cb19883a60",
   "metadata": {},
   "source": [
    "### 5. Write a Python program to generate a random number?\n"
   ]
  },
  {
   "cell_type": "code",
   "execution_count": null,
   "id": "129b99dc-b39d-46da-b191-cb29be17b7b3",
   "metadata": {},
   "outputs": [],
   "source": []
  }
 ],
 "metadata": {
  "kernelspec": {
   "display_name": "Python 3 (ipykernel)",
   "language": "python",
   "name": "python3"
  },
  "language_info": {
   "codemirror_mode": {
    "name": "ipython",
    "version": 3
   },
   "file_extension": ".py",
   "mimetype": "text/x-python",
   "name": "python",
   "nbconvert_exporter": "python",
   "pygments_lexer": "ipython3",
   "version": "3.10.6"
  }
 },
 "nbformat": 4,
 "nbformat_minor": 5
}
