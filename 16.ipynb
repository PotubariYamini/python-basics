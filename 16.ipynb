{
 "cells": [
  {
   "cell_type": "markdown",
   "id": "e304dc88",
   "metadata": {},
   "source": [
    "## Python Basic Programming Assignment 16\n",
    "---------------------"
   ]
  },
  {
   "cell_type": "markdown",
   "id": "d82eeee0",
   "metadata": {},
   "source": [
    "### 1. Write a function that stutters a word as if someone is struggling to read it. The first two letters are repeated twice with an ellipsis ... and space after each, and then the word is pronounced with a question mark ?. Examples stutter('incredible') ➞ 'in... in... incredible?' stutter('enthusiastic') ➞ 'en... en... enthusiastic?' stutter('outstanding') ➞ 'ou... ou... outstanding?'\n",
    "\n",
    "### Hint :- Assume all input is in lower case and at least two characters long."
   ]
  },
  {
   "cell_type": "code",
   "execution_count": 1,
   "id": "13893609-83f4-4c72-a3cc-cbd453dee60f",
   "metadata": {},
   "outputs": [
    {
     "name": "stdout",
     "output_type": "stream",
     "text": [
      "in... in... incredible?\n",
      "en... en... enthusiastic?\n",
      "ou... ou... outstanding?\n"
     ]
    }
   ],
   "source": [
    "def stutter(word):\n",
    "    stuttered_word = word[:2] + \"... \" + word[:2] + \"... \" + word + \"?\"\n",
    "    return stuttered_word\n",
    "\n",
    "# Examples\n",
    "print(stutter('incredible'))      # Output: in... in... incredible?\n",
    "print(stutter('enthusiastic'))    # Output: en... en... enthusiastic?\n",
    "print(stutter('outstanding'))     # Output: ou... ou... outstanding?\n"
   ]
  },
  {
   "cell_type": "markdown",
   "id": "47e1bd41",
   "metadata": {},
   "source": [
    "\n",
    "### 2. Create a function that takes an angle in radians and returns the corresponding angle in degrees rounded to one decimal place."
   ]
  },
  {
   "cell_type": "code",
   "execution_count": 2,
   "id": "d77a67d6-6621-41f4-9ca9-22dfb8975b57",
   "metadata": {},
   "outputs": [
    {
     "name": "stdout",
     "output_type": "stream",
     "text": [
      "90.0\n"
     ]
    }
   ],
   "source": [
    "import math\n",
    "\n",
    "def radians_to_degrees(angle_rad):\n",
    "    angle_deg = math.degrees(angle_rad)\n",
    "    angle_deg_rounded = round(angle_deg, 1)\n",
    "    return angle_deg_rounded\n",
    "\n",
    "# Example usage\n",
    "angle_rad = 1.57\n",
    "angle_deg = radians_to_degrees(angle_rad)\n",
    "print(angle_deg)  # Output: 90.0\n"
   ]
  },
  {
   "cell_type": "markdown",
   "id": "07cad4d9",
   "metadata": {},
   "source": [
    "\n",
    "### 3. In this challenge, establish if a given integer num is a Curzon number. If 1 plus 2 elevated to num is exactly divisible by 1 plus 2 multiplied by num, then num is a Curzon number. Given a non-negative integer num, implement a function that returns True if num is a Curzon number, or False otherwise."
   ]
  },
  {
   "cell_type": "code",
   "execution_count": 3,
   "id": "c111a5fc-f640-40de-a9bf-24374ae4f8c8",
   "metadata": {},
   "outputs": [
    {
     "name": "stdout",
     "output_type": "stream",
     "text": [
      "True\n",
      "False\n"
     ]
    }
   ],
   "source": [
    "def is_curzon_number(num):\n",
    "    numerator = 2 ** num + 1\n",
    "    denominator = 2 * num + 1\n",
    "    if numerator % denominator == 0:\n",
    "        return True\n",
    "    else:\n",
    "        return False\n",
    "\n",
    "# Example usage\n",
    "print(is_curzon_number(5))  # Output: True\n",
    "print(is_curzon_number(10)) # Output: False\n"
   ]
  },
  {
   "cell_type": "markdown",
   "id": "cfad2cfc",
   "metadata": {},
   "source": [
    "\n",
    "### 4. Given the side length x find the area of a hexagon."
   ]
  },
  {
   "cell_type": "code",
   "execution_count": null,
   "id": "f7b46ea0-1ac9-4b8a-833f-f333eff607b8",
   "metadata": {},
   "outputs": [],
   "source": []
  },
  {
   "cell_type": "markdown",
   "id": "dbc79e02",
   "metadata": {},
   "source": [
    "\n",
    "### 5. Create a function that returns a base-2 (binary) representation of a base-10 (decimal) string number. To convert is simple: ((2) means base-2 and (10) means base-10) 010101001(2) = 1 + 8 + 32 + 128."
   ]
  },
  {
   "cell_type": "code",
   "execution_count": null,
   "id": "04165479-5dc8-4642-aaba-a6f6dc83d095",
   "metadata": {},
   "outputs": [],
   "source": []
  }
 ],
 "metadata": {
  "kernelspec": {
   "display_name": "Python 3 (ipykernel)",
   "language": "python",
   "name": "python3"
  },
  "language_info": {
   "codemirror_mode": {
    "name": "ipython",
    "version": 3
   },
   "file_extension": ".py",
   "mimetype": "text/x-python",
   "name": "python",
   "nbconvert_exporter": "python",
   "pygments_lexer": "ipython3",
   "version": "3.10.6"
  }
 },
 "nbformat": 4,
 "nbformat_minor": 5
}
