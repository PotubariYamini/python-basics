{
 "cells": [
  {
   "cell_type": "markdown",
   "id": "b7231b20",
   "metadata": {},
   "source": [
    "# Python Basic Programming Assignment 12\n",
    "-------------"
   ]
  },
  {
   "cell_type": "markdown",
   "id": "d2ec324d",
   "metadata": {},
   "source": [
    "### 1. Write a Python program to Extract Unique values dictionary values?"
   ]
  },
  {
   "cell_type": "code",
   "execution_count": 1,
   "id": "760a580c-97c7-44d8-839f-ec43c656ab1e",
   "metadata": {},
   "outputs": [
    {
     "name": "stdout",
     "output_type": "stream",
     "text": [
      "['value1', 'value3', 'value2']\n"
     ]
    }
   ],
   "source": [
    "def extract_unique_values(dictionary):\n",
    "    unique_values = set(dictionary.values())\n",
    "    return list(unique_values)\n",
    "\n",
    "# Example usage\n",
    "input_dict = {\n",
    "    \"key1\": \"value1\",\n",
    "    \"key2\": \"value2\",\n",
    "    \"key3\": \"value1\",\n",
    "    \"key4\": \"value3\",\n",
    "    \"key5\": \"value2\"\n",
    "}\n",
    "\n",
    "unique_values = extract_unique_values(input_dict)\n",
    "print(unique_values)\n"
   ]
  },
  {
   "cell_type": "markdown",
   "id": "203bcbc3",
   "metadata": {},
   "source": [
    "### 2. Write a Python program to find the sum of all items in a dictionary?"
   ]
  },
  {
   "cell_type": "code",
   "execution_count": 2,
   "id": "243942e1-d1e5-4c57-bb5a-c03060a4f1cf",
   "metadata": {},
   "outputs": [
    {
     "name": "stdout",
     "output_type": "stream",
     "text": [
      "Sum of all items: 150\n"
     ]
    }
   ],
   "source": [
    "def sum_of_items(dictionary):\n",
    "    total = sum(dictionary.values())\n",
    "    return total\n",
    "\n",
    "# Example usage\n",
    "input_dict = {\n",
    "    \"item1\": 10,\n",
    "    \"item2\": 20,\n",
    "    \"item3\": 30,\n",
    "    \"item4\": 40,\n",
    "    \"item5\": 50\n",
    "}\n",
    "\n",
    "sum_of_all_items = sum_of_items(input_dict)\n",
    "print(\"Sum of all items:\", sum_of_all_items)\n"
   ]
  },
  {
   "cell_type": "markdown",
   "id": "edfbc682",
   "metadata": {},
   "source": [
    "### 3. Write a Python program to Merging two Dictionaries?"
   ]
  },
  {
   "cell_type": "code",
   "execution_count": 3,
   "id": "32d60e44-41e4-4115-b9df-c7d1757d4cef",
   "metadata": {},
   "outputs": [
    {
     "name": "stdout",
     "output_type": "stream",
     "text": [
      "{'key1': 'value1', 'key2': 'value2', 'key3': 'value3', 'key4': 'value4'}\n"
     ]
    }
   ],
   "source": [
    "def merge_dictionaries(dict1, dict2):\n",
    "    merged_dict = {**dict1, **dict2}\n",
    "    return merged_dict\n",
    "\n",
    "# Example usage\n",
    "dict1 = {\"key1\": \"value1\", \"key2\": \"value2\"}\n",
    "dict2 = {\"key3\": \"value3\", \"key4\": \"value4\"}\n",
    "\n",
    "merged_dictionary = merge_dictionaries(dict1, dict2)\n",
    "print(merged_dictionary)\n"
   ]
  },
  {
   "cell_type": "markdown",
   "id": "62eaf687",
   "metadata": {},
   "source": [
    "### 4. Write a Python program to convert key-values list to flat dictionary?"
   ]
  },
  {
   "cell_type": "code",
   "execution_count": 4,
   "id": "c3fb09ae-f3c9-4d94-92e5-954b6c6e0f74",
   "metadata": {},
   "outputs": [
    {
     "name": "stdout",
     "output_type": "stream",
     "text": [
      "{'key1': 'value1', 'key2': 'value2', 'key3': 'value3'}\n"
     ]
    }
   ],
   "source": [
    "def convert_to_flat_dictionary(key_value_list):\n",
    "    flat_dict = {}\n",
    "    for key, value in key_value_list:\n",
    "        flat_dict[key] = value\n",
    "    return flat_dict\n",
    "\n",
    "# Example usage\n",
    "input_list = [(\"key1\", \"value1\"), (\"key2\", \"value2\"), (\"key3\", \"value3\")]\n",
    "\n",
    "flat_dictionary = convert_to_flat_dictionary(input_list)\n",
    "print(flat_dictionary)\n"
   ]
  },
  {
   "cell_type": "markdown",
   "id": "fcc5015f",
   "metadata": {},
   "source": [
    "### 5. Write a Python program to insertion at the beginning in OrderedDict?"
   ]
  },
  {
   "cell_type": "code",
   "execution_count": 1,
   "id": "89cbaba5-dcb6-4f5b-b5e5-cafa5dd65e6d",
   "metadata": {},
   "outputs": [
    {
     "name": "stdout",
     "output_type": "stream",
     "text": [
      "Before insertion: [1, 3, 5, 7, 9]\n",
      "After insertion: [0, 1, 3, 5, 7, 9]\n"
     ]
    }
   ],
   "source": [
    "def insert_at_beginning(ordered_list, element):\n",
    "    index = 0\n",
    "    while index < len(ordered_list) and ordered_list[index] < element:\n",
    "        index += 1\n",
    "    ordered_list.insert(index, element)\n",
    "\n",
    "# Example usage\n",
    "my_list = [1, 3, 5, 7, 9]\n",
    "new_element = 0\n",
    "\n",
    "print(\"Before insertion:\", my_list)\n",
    "insert_at_beginning(my_list, new_element)\n",
    "print(\"After insertion:\", my_list)\n"
   ]
  },
  {
   "cell_type": "markdown",
   "id": "5978c9ab",
   "metadata": {},
   "source": [
    "### 6. Write a Python program to check order of character in string using OrderedDict()?"
   ]
  },
  {
   "cell_type": "code",
   "execution_count": 2,
   "id": "fb256cf9-548a-4f2c-84ac-e824f2c6d849",
   "metadata": {},
   "outputs": [
    {
     "name": "stdout",
     "output_type": "stream",
     "text": [
      "Characters are not in order.\n"
     ]
    }
   ],
   "source": [
    "from collections import OrderedDict\n",
    "\n",
    "def check_order_of_characters(string):\n",
    "    ordered_dict = OrderedDict.fromkeys(string)\n",
    "\n",
    "    # Concatenate the keys of the ordered dictionary\n",
    "    ordered_chars = ''.join(ordered_dict.keys())\n",
    "\n",
    "    # Check if the concatenated characters are equal to the original string\n",
    "    if ordered_chars == string:\n",
    "        return \"Characters are in order.\"\n",
    "    else:\n",
    "        return \"Characters are not in order.\"\n",
    "\n",
    "# Example usage\n",
    "input_string = \"hello world\"\n",
    "\n",
    "result = check_order_of_characters(input_string)\n",
    "print(result)\n"
   ]
  },
  {
   "cell_type": "markdown",
   "id": "f330da77",
   "metadata": {},
   "source": [
    "### 7. Write a Python program to sort Python Dictionaries by Key or Value?"
   ]
  },
  {
   "cell_type": "code",
   "execution_count": null,
   "id": "36182b6e-d853-41d1-b439-afac852f2985",
   "metadata": {},
   "outputs": [],
   "source": []
  }
 ],
 "metadata": {
  "kernelspec": {
   "display_name": "Python 3 (ipykernel)",
   "language": "python",
   "name": "python3"
  },
  "language_info": {
   "codemirror_mode": {
    "name": "ipython",
    "version": 3
   },
   "file_extension": ".py",
   "mimetype": "text/x-python",
   "name": "python",
   "nbconvert_exporter": "python",
   "pygments_lexer": "ipython3",
   "version": "3.10.6"
  }
 },
 "nbformat": 4,
 "nbformat_minor": 5
}
