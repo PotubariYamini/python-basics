{
 "cells": [
  {
   "cell_type": "markdown",
   "id": "47b9bb99",
   "metadata": {},
   "source": [
    "## Programming Assignment_9\n",
    "----------------"
   ]
  },
  {
   "cell_type": "markdown",
   "id": "c725f7a9",
   "metadata": {},
   "source": [
    "### 1. Write a Python program to check if the given number is a Disarium Number?"
   ]
  },
  {
   "cell_type": "code",
   "execution_count": 1,
   "id": "1f5001cc-75a0-4c0c-afe0-87be74dac62c",
   "metadata": {},
   "outputs": [
    {
     "name": "stdout",
     "output_type": "stream",
     "text": [
      "175 is a Disarium number.\n"
     ]
    }
   ],
   "source": [
    "def is_disarium_number(number):\n",
    "    # Convert the number to string for individual digit access\n",
    "    num_str = str(number)\n",
    "    length = len(num_str)\n",
    "    sum = 0\n",
    "    \n",
    "    # Calculate the sum of digits raised to their respective positions\n",
    "    for i in range(length):\n",
    "        digit = int(num_str[i])\n",
    "        sum += digit ** (i + 1)\n",
    "    \n",
    "    # Check if the sum is equal to the original number\n",
    "    if sum == number:\n",
    "        return True\n",
    "    else:\n",
    "        return False\n",
    "\n",
    "# Example usage\n",
    "num = 175\n",
    "if is_disarium_number(num):\n",
    "    print(num, \"is a Disarium number.\")\n",
    "else:\n",
    "    print(num, \"is not a Disarium number.\")\n"
   ]
  },
  {
   "cell_type": "markdown",
   "id": "f0064401",
   "metadata": {},
   "source": [
    "### 2. Write a Python program to print all disarium numbers between 1 to 100?"
   ]
  },
  {
   "cell_type": "code",
   "execution_count": 2,
   "id": "18f51efa-31e1-4e9f-88d0-55c45894c6ef",
   "metadata": {},
   "outputs": [
    {
     "name": "stdout",
     "output_type": "stream",
     "text": [
      "Disarium numbers between 1 and 100:\n",
      "1\n",
      "2\n",
      "3\n",
      "4\n",
      "5\n",
      "6\n",
      "7\n",
      "8\n",
      "9\n",
      "89\n"
     ]
    }
   ],
   "source": [
    "def is_disarium_number(number):\n",
    "    # Convert the number to string for individual digit access\n",
    "    num_str = str(number)\n",
    "    length = len(num_str)\n",
    "    sum = 0\n",
    "    \n",
    "    # Calculate the sum of digits raised to their respective positions\n",
    "    for i in range(length):\n",
    "        digit = int(num_str[i])\n",
    "        sum += digit ** (i + 1)\n",
    "    \n",
    "    # Check if the sum is equal to the original number\n",
    "    if sum == number:\n",
    "        return True\n",
    "    else:\n",
    "        return False\n",
    "\n",
    "\n",
    "print(\"Disarium numbers between 1 and 100:\")\n",
    "for num in range(1, 101):\n",
    "    if is_disarium_number(num):\n",
    "        print(num)\n"
   ]
  },
  {
   "cell_type": "markdown",
   "id": "31df1e4a",
   "metadata": {},
   "source": [
    "### 3. Write a Python program to check if the given number is Happy Number?"
   ]
  },
  {
   "cell_type": "code",
   "execution_count": 3,
   "id": "a1f1647f-ce82-47f8-90e6-ea79f2ddf72e",
   "metadata": {},
   "outputs": [
    {
     "name": "stdout",
     "output_type": "stream",
     "text": [
      "19 is a happy number.\n"
     ]
    }
   ],
   "source": [
    "def is_happy_number(number):\n",
    "    seen_numbers = set()\n",
    "    \n",
    "    while number != 1:\n",
    "        # If the number is already in the set, it means we are in a cycle and the number is not happy\n",
    "        if number in seen_numbers:\n",
    "            return False\n",
    "        \n",
    "        seen_numbers.add(number)\n",
    "        \n",
    "        # Calculate the sum of squares of digits\n",
    "        sum_of_squares = 0\n",
    "        while number != 0:\n",
    "            digit = number % 10\n",
    "            sum_of_squares += digit ** 2\n",
    "            number //= 10\n",
    "        \n",
    "        number = sum_of_squares\n",
    "    \n",
    "    return True\n",
    "\n",
    "\n",
    "# Example usage\n",
    "num = 19\n",
    "if is_happy_number(num):\n",
    "    print(num, \"is a happy number.\")\n",
    "else:\n",
    "    print(num, \"is not a happy number.\")\n"
   ]
  },
  {
   "cell_type": "markdown",
   "id": "51b265e3",
   "metadata": {},
   "source": [
    "### 4. Write a Python program to print all happy numbers between 1 and 100?"
   ]
  },
  {
   "cell_type": "code",
   "execution_count": 4,
   "id": "f8dd09de-959d-4d01-ab89-fc98ae20ad77",
   "metadata": {},
   "outputs": [
    {
     "name": "stdout",
     "output_type": "stream",
     "text": [
      "Happy numbers between 1 and 100:\n",
      "1\n",
      "7\n",
      "10\n",
      "13\n",
      "19\n",
      "23\n",
      "28\n",
      "31\n",
      "32\n",
      "44\n",
      "49\n",
      "68\n",
      "70\n",
      "79\n",
      "82\n",
      "86\n",
      "91\n",
      "94\n",
      "97\n",
      "100\n"
     ]
    }
   ],
   "source": [
    "def is_happy_number(number):\n",
    "    seen_numbers = set()\n",
    "    \n",
    "    while number != 1:\n",
    "        if number in seen_numbers:\n",
    "            return False\n",
    "        \n",
    "        seen_numbers.add(number)\n",
    "        \n",
    "        sum_of_squares = 0\n",
    "        while number != 0:\n",
    "            digit = number % 10\n",
    "            sum_of_squares += digit ** 2\n",
    "            number //= 10\n",
    "        \n",
    "        number = sum_of_squares\n",
    "    \n",
    "    return True\n",
    "\n",
    "\n",
    "print(\"Happy numbers between 1 and 100:\")\n",
    "for num in range(1, 101):\n",
    "    if is_happy_number(num):\n",
    "        print(num)\n"
   ]
  },
  {
   "cell_type": "markdown",
   "id": "6a190ee0",
   "metadata": {},
   "source": [
    "### 5. Write a Python program to determine whether the given number is a Harshad Number?"
   ]
  },
  {
   "cell_type": "code",
   "execution_count": 5,
   "id": "4090dcb7-9d69-4a8e-a55d-356029bc1a36",
   "metadata": {},
   "outputs": [
    {
     "name": "stdout",
     "output_type": "stream",
     "text": [
      "18 is a Harshad number.\n"
     ]
    }
   ],
   "source": [
    "def is_harshad_number(number):\n",
    "    sum_of_digits = sum(int(digit) for digit in str(number))\n",
    "    if number % sum_of_digits == 0:\n",
    "        return True\n",
    "    else:\n",
    "        return False\n",
    "\n",
    "\n",
    "# Example usage\n",
    "num = 18\n",
    "if is_harshad_number(num):\n",
    "    print(num, \"is a Harshad number.\")\n",
    "else:\n",
    "    print(num, \"is not a Harshad number.\")\n"
   ]
  },
  {
   "cell_type": "markdown",
   "id": "7a7ea92e",
   "metadata": {},
   "source": [
    "### 6. Write a Python program to print all pronic numbers between 1 and 100?"
   ]
  },
  {
   "cell_type": "code",
   "execution_count": null,
   "id": "970c50c0-b5fd-4165-b2f7-6c2b894b2f9a",
   "metadata": {},
   "outputs": [],
   "source": []
  }
 ],
 "metadata": {
  "kernelspec": {
   "display_name": "Python 3 (ipykernel)",
   "language": "python",
   "name": "python3"
  },
  "language_info": {
   "codemirror_mode": {
    "name": "ipython",
    "version": 3
   },
   "file_extension": ".py",
   "mimetype": "text/x-python",
   "name": "python",
   "nbconvert_exporter": "python",
   "pygments_lexer": "ipython3",
   "version": "3.10.6"
  }
 },
 "nbformat": 4,
 "nbformat_minor": 5
}
