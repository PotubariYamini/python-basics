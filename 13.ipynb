{
 "cells": [
  {
   "cell_type": "markdown",
   "id": "62fd0c8e",
   "metadata": {},
   "source": [
    "# Python Programming Basic Assignment 13"
   ]
  },
  {
   "cell_type": "markdown",
   "id": "ed4a3c0b",
   "metadata": {},
   "source": [
    "\n",
    "### 1. Write a program that calculates and prints the value according to the given formula:\n",
    "Q = Square root of [(2 C D)/H]\n",
    "\n",
    "Following are the fixed values of C and H:\n",
    "\n",
    "C is 50. H is 30.\n",
    "\n",
    "D is the variable whose values should be input to your program in a comma-separated sequence.\n",
    "\n",
    "Example\n",
    "\n",
    "Let us assume the following comma separated input sequence is given to the program:\n",
    "\n",
    "100,150,180\n",
    "\n",
    "The output of the program should be:\n",
    "\n",
    "18,22,24"
   ]
  },
  {
   "cell_type": "code",
   "execution_count": 1,
   "id": "27999020-63c8-4586-ad20-02976437df36",
   "metadata": {},
   "outputs": [
    {
     "name": "stdin",
     "output_type": "stream",
     "text": [
      "Enter the values of D (comma-separated sequence):  100\n"
     ]
    },
    {
     "name": "stdout",
     "output_type": "stream",
     "text": [
      "Square root values: [18.257418583505537]\n"
     ]
    }
   ],
   "source": [
    "import math\n",
    "\n",
    "C = 50\n",
    "H = 30\n",
    "\n",
    "def calculate_sqrt(d_values):\n",
    "    results = []\n",
    "    for d in d_values:\n",
    "        q = math.sqrt((2 * C * int(d)) / H)\n",
    "        results.append(q)\n",
    "    return results\n",
    "\n",
    "# Example usage\n",
    "input_values = input(\"Enter the values of D (comma-separated sequence): \")\n",
    "d_values = input_values.split(\",\")\n",
    "\n",
    "sqrt_values = calculate_sqrt(d_values)\n",
    "print(\"Square root values:\", sqrt_values)\n"
   ]
  },
  {
   "cell_type": "markdown",
   "id": "ed37b6ed",
   "metadata": {},
   "source": [
    "### 2. Write a program which takes 2 digits, X,Y as input and generates a 2-dimensional array. The element value in the i-th row and j-th column of the array should be i*j."
   ]
  },
  {
   "cell_type": "code",
   "execution_count": 3,
   "id": "7e5387ac-e1f3-4513-99a5-d696d89aa739",
   "metadata": {},
   "outputs": [
    {
     "name": "stdin",
     "output_type": "stream",
     "text": [
      "Enter the value of X:  12\n",
      "Enter the value of Y:  7\n"
     ]
    },
    {
     "name": "stdout",
     "output_type": "stream",
     "text": [
      "[0, 0, 0, 0, 0, 0, 0]\n",
      "[0, 1, 2, 3, 4, 5, 6]\n",
      "[0, 2, 4, 6, 8, 10, 12]\n",
      "[0, 3, 6, 9, 12, 15, 18]\n",
      "[0, 4, 8, 12, 16, 20, 24]\n",
      "[0, 5, 10, 15, 20, 25, 30]\n",
      "[0, 6, 12, 18, 24, 30, 36]\n",
      "[0, 7, 14, 21, 28, 35, 42]\n",
      "[0, 8, 16, 24, 32, 40, 48]\n",
      "[0, 9, 18, 27, 36, 45, 54]\n",
      "[0, 10, 20, 30, 40, 50, 60]\n",
      "[0, 11, 22, 33, 44, 55, 66]\n"
     ]
    }
   ],
   "source": [
    "def generate_2d_array(x, y):\n",
    "    array_2d = []\n",
    "    for i in range(x):\n",
    "        row = []\n",
    "        for j in range(y):\n",
    "            element = i * j\n",
    "            row.append(element)\n",
    "        array_2d.append(row)\n",
    "    return array_2d\n",
    "\n",
    "# Example usage\n",
    "x = int(input(\"Enter the value of X: \"))\n",
    "y = int(input(\"Enter the value of Y: \"))\n",
    "\n",
    "result = generate_2d_array(x, y)\n",
    "for row in result:\n",
    "    print(row)\n"
   ]
  },
  {
   "cell_type": "markdown",
   "id": "bc7f977b",
   "metadata": {},
   "source": [
    "### 3. Write a program that accepts a comma separated sequence of words as input and prints the words in a comma-separated sequence after sorting them alphabetically."
   ]
  },
  {
   "cell_type": "code",
   "execution_count": 4,
   "id": "7f380ae1-fc44-4a11-be71-f5af40fb21a4",
   "metadata": {},
   "outputs": [
    {
     "name": "stdin",
     "output_type": "stream",
     "text": [
      "Enter a comma-separated sequence of words:  words,english,sentence,\n"
     ]
    },
    {
     "name": "stdout",
     "output_type": "stream",
     "text": [
      "Sorted sequence: ,english,sentence,words\n"
     ]
    }
   ],
   "source": [
    "def sort_words(sequence):\n",
    "    words = sequence.split(\",\")\n",
    "    sorted_words = sorted(words)\n",
    "    sorted_sequence = \",\".join(sorted_words)\n",
    "    return sorted_sequence\n",
    "\n",
    "# Example usage\n",
    "input_sequence = input(\"Enter a comma-separated sequence of words: \")\n",
    "\n",
    "sorted_sequence = sort_words(input_sequence)\n",
    "print(\"Sorted sequence:\", sorted_sequence)\n"
   ]
  },
  {
   "cell_type": "markdown",
   "id": "171c3d90",
   "metadata": {},
   "source": [
    "### 4. Write a program that accepts a sequence of whitespace separated words as input and prints the words after removing all duplicate words and sorting them alphanumerically."
   ]
  },
  {
   "cell_type": "code",
   "execution_count": 1,
   "id": "4b751030-fcb1-499f-ab5d-882424bafe99",
   "metadata": {},
   "outputs": [
    {
     "name": "stdin",
     "output_type": "stream",
     "text": [
      "Enter a sequence of whitespace-separated words:  hi am a student of ineuron\n"
     ]
    },
    {
     "name": "stdout",
     "output_type": "stream",
     "text": [
      "Unique words (sorted):\n",
      "a\n",
      "am\n",
      "hi\n",
      "ineuron\n",
      "of\n",
      "student\n"
     ]
    }
   ],
   "source": [
    "def remove_duplicates_and_sort(words):\n",
    "    word_list = words.split()\n",
    "    unique_words = list(set(word_list))\n",
    "    unique_words.sort()\n",
    "    return unique_words\n",
    "\n",
    "input_sequence = input(\"Enter a sequence of whitespace-separated words: \")\n",
    "result = remove_duplicates_and_sort(input_sequence)\n",
    "\n",
    "print(\"Unique words (sorted):\")\n",
    "for word in result:\n",
    "    print(word)\n"
   ]
  },
  {
   "cell_type": "markdown",
   "id": "88d25c49",
   "metadata": {},
   "source": [
    "### 5. Write a program that accepts a sentence and calculate the number of letters and digits."
   ]
  },
  {
   "cell_type": "code",
   "execution_count": 3,
   "id": "13fb7315-6b51-41b0-9d10-b8030e026d94",
   "metadata": {},
   "outputs": [
    {
     "name": "stdin",
     "output_type": "stream",
     "text": [
      "Enter a sentence:  i am pursing my post grad\n"
     ]
    },
    {
     "name": "stdout",
     "output_type": "stream",
     "text": [
      "Number of letters: 20\n",
      "Number of digits: 0\n"
     ]
    }
   ],
   "source": [
    "def count_letters_and_digits(sentence):\n",
    "    letters = 0\n",
    "    digits = 0\n",
    "    for char in sentence:\n",
    "        if char.isalpha():\n",
    "            letters += 1\n",
    "        elif char.isdigit():\n",
    "            digits += 1\n",
    "    return letters, digits\n",
    "\n",
    "input_sentence = input(\"Enter a sentence: \")\n",
    "letter_count, digit_count = count_letters_and_digits(input_sentence)\n",
    "\n",
    "print(\"Number of letters:\", letter_count)\n",
    "print(\"Number of digits:\", digit_count)\n"
   ]
  },
  {
   "cell_type": "markdown",
   "id": "9695c4ca",
   "metadata": {},
   "source": [
    "### 6. A website requires the users to input username and password to register. Write a program to check the validity of password input by users."
   ]
  },
  {
   "cell_type": "code",
   "execution_count": null,
   "id": "843482f9-c8db-40c5-8c9a-d393761de263",
   "metadata": {},
   "outputs": [],
   "source": [
    "def is_valid_password(password):\n",
    "    # Check password length\n",
    "    if len(password) < 8 or len(password) > 20:\n",
    "        return False\n",
    "\n",
    "    # Check for at least one uppercase letter, one lowercase letter, and one digit\n",
    "    has_uppercase = False\n",
    "    has_lowercase = False\n",
    "    has_digit = False\n",
    "    for char in password:\n",
    "        if char.isupper():\n",
    "            has_uppercase = True\n",
    "        elif char.islower():\n",
    "            has_lowercase = True\n",
    "        elif char.isdigit():\n",
    "            has_digit = True\n",
    "\n",
    "    if not (has_uppercase and has_lowercase and has_digit):\n",
    "        return False\n",
    "\n",
    "    # Check for any special characters\n",
    "    special_characters = \"!@#$%^&*()-_=+`~[{]}\\|;:'\\\",<.>/?\"\n",
    "    for char in password:\n",
    "        if char in special_characters:\n",
    "            return False\n",
    "\n",
    "    # If all conditions are met, password is valid\n",
    "    return True\n",
    "\n",
    "# Prompt the user to enter a password\n",
    "password = input(\"Enter a password: \")\n",
    "\n",
    "# Check the validity of the password\n",
    "valid = is_valid_password(password)\n",
    "\n",
    "# Display the result\n",
    "if valid:\n",
    "    print(\"Password is valid.\")\n",
    "else:\n",
    "    print(\"Password is not valid.\")\n"
   ]
  },
  {
   "cell_type": "code",
   "execution_count": null,
   "id": "c6d7fa89-5a69-4ecd-b964-576e293f68a0",
   "metadata": {},
   "outputs": [],
   "source": []
  }
 ],
 "metadata": {
  "kernelspec": {
   "display_name": "Python 3 (ipykernel)",
   "language": "python",
   "name": "python3"
  },
  "language_info": {
   "codemirror_mode": {
    "name": "ipython",
    "version": 3
   },
   "file_extension": ".py",
   "mimetype": "text/x-python",
   "name": "python",
   "nbconvert_exporter": "python",
   "pygments_lexer": "ipython3",
   "version": "3.10.6"
  }
 },
 "nbformat": 4,
 "nbformat_minor": 5
}
